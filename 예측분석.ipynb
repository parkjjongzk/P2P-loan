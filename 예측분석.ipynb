{
 "cells": [
  {
   "cell_type": "code",
   "execution_count": 1,
   "metadata": {},
   "outputs": [],
   "source": [
    "import pandas as pd\n",
    "import numpy as np\n",
    "\n",
    "import re\n",
    "\n",
    "import matplotlib.pyplot as plt\n",
    "import seaborn as sns\n",
    "\n",
    "from sklearn import preprocessing\n",
    "from sklearn.preprocessing import StandardScaler\n",
    "\n",
    "from sklearn.metrics import confusion_matrix,precision_recall_curve,auc,roc_auc_score,roc_curve,recall_score,classification_report,accuracy_score\n",
    "from sklearn.model_selection import StratifiedKFold,train_test_split\n",
    "from sklearn.tree import DecisionTreeClassifier\n",
    "from sklearn.metrics import confusion_matrix, classification_report\n",
    "from sklearn.ensemble import RandomForestClassifier\n",
    "from sklearn.linear_model import LogisticRegression\n",
    "from sklearn.neighbors import KNeighborsClassifier\n",
    "from sklearn.discriminant_analysis import LinearDiscriminantAnalysis, QuadraticDiscriminantAnalysis\n",
    "from sklearn.svm import SVC\n",
    "\n",
    "from sklearn.model_selection import KFold \n",
    "from sklearn.model_selection import cross_val_score\n",
    "\n",
    "\n",
    "import warnings\n",
    "warnings.filterwarnings(\"ignore\")"
   ]
  },
  {
   "cell_type": "code",
   "execution_count": 2,
   "metadata": {},
   "outputs": [],
   "source": [
    "from matplotlib import font_manager, rc\n",
    "font_name = font_manager.FontProperties(fname=\"c:/Windows/Fonts/malgun.ttf\").get_name()\n",
    "rc('font', family=font_name)"
   ]
  },
  {
   "cell_type": "code",
   "execution_count": 3,
   "metadata": {},
   "outputs": [],
   "source": [
    "df=pd.read_excel('Train_Dataset.xlsx')"
   ]
  },
  {
   "cell_type": "markdown",
   "metadata": {},
   "source": [
    "# 데이터 탐색"
   ]
  },
  {
   "cell_type": "code",
   "execution_count": 69,
   "metadata": {},
   "outputs": [
    {
     "name": "stdout",
     "output_type": "stream",
     "text": [
      "(114912, 16)\n"
     ]
    },
    {
     "data": {
      "text/html": [
       "<div>\n",
       "<style scoped>\n",
       "    .dataframe tbody tr th:only-of-type {\n",
       "        vertical-align: middle;\n",
       "    }\n",
       "\n",
       "    .dataframe tbody tr th {\n",
       "        vertical-align: top;\n",
       "    }\n",
       "\n",
       "    .dataframe thead th {\n",
       "        text-align: right;\n",
       "    }\n",
       "</style>\n",
       "<table border=\"1\" class=\"dataframe\">\n",
       "  <thead>\n",
       "    <tr style=\"text-align: right;\">\n",
       "      <th></th>\n",
       "      <th>loan_status</th>\n",
       "      <th>loan amount</th>\n",
       "      <th>interest rate</th>\n",
       "      <th>LC_grade</th>\n",
       "      <th>length of employment</th>\n",
       "      <th>housing situation</th>\n",
       "      <th>annual income</th>\n",
       "      <th>loan purpose</th>\n",
       "      <th>debt to income ratio</th>\n",
       "      <th>public records</th>\n",
       "      <th>delinquency in past 2 years</th>\n",
       "      <th>number of finance trades</th>\n",
       "      <th>bankcard open to buy</th>\n",
       "      <th>mortgage accounts</th>\n",
       "      <th>number of bankcard accounts</th>\n",
       "      <th>id</th>\n",
       "    </tr>\n",
       "  </thead>\n",
       "  <tbody>\n",
       "    <tr>\n",
       "      <th>114907</th>\n",
       "      <td>False</td>\n",
       "      <td>25000</td>\n",
       "      <td>0.1709</td>\n",
       "      <td>D</td>\n",
       "      <td>10</td>\n",
       "      <td>RENT</td>\n",
       "      <td>120000.0</td>\n",
       "      <td>small_business</td>\n",
       "      <td>13.15</td>\n",
       "      <td>0</td>\n",
       "      <td>0</td>\n",
       "      <td>1</td>\n",
       "      <td>74790</td>\n",
       "      <td>0</td>\n",
       "      <td>6</td>\n",
       "      <td>143633</td>\n",
       "    </tr>\n",
       "    <tr>\n",
       "      <th>114908</th>\n",
       "      <td>False</td>\n",
       "      <td>7000</td>\n",
       "      <td>0.2145</td>\n",
       "      <td>D</td>\n",
       "      <td>5</td>\n",
       "      <td>OWN</td>\n",
       "      <td>90000.0</td>\n",
       "      <td>medical</td>\n",
       "      <td>17.36</td>\n",
       "      <td>0</td>\n",
       "      <td>0</td>\n",
       "      <td>1</td>\n",
       "      <td>2416</td>\n",
       "      <td>3</td>\n",
       "      <td>6</td>\n",
       "      <td>143634</td>\n",
       "    </tr>\n",
       "    <tr>\n",
       "      <th>114909</th>\n",
       "      <td>False</td>\n",
       "      <td>10450</td>\n",
       "      <td>0.2145</td>\n",
       "      <td>D</td>\n",
       "      <td>7</td>\n",
       "      <td>MORTGAGE</td>\n",
       "      <td>64000.0</td>\n",
       "      <td>major_purchase</td>\n",
       "      <td>24.62</td>\n",
       "      <td>0</td>\n",
       "      <td>0</td>\n",
       "      <td>13</td>\n",
       "      <td>28475</td>\n",
       "      <td>2</td>\n",
       "      <td>11</td>\n",
       "      <td>143636</td>\n",
       "    </tr>\n",
       "    <tr>\n",
       "      <th>114910</th>\n",
       "      <td>False</td>\n",
       "      <td>17750</td>\n",
       "      <td>0.1903</td>\n",
       "      <td>D</td>\n",
       "      <td>10</td>\n",
       "      <td>MORTGAGE</td>\n",
       "      <td>50000.0</td>\n",
       "      <td>debt_consolidation</td>\n",
       "      <td>18.72</td>\n",
       "      <td>0</td>\n",
       "      <td>0</td>\n",
       "      <td>1</td>\n",
       "      <td>4625</td>\n",
       "      <td>1</td>\n",
       "      <td>8</td>\n",
       "      <td>143637</td>\n",
       "    </tr>\n",
       "    <tr>\n",
       "      <th>114911</th>\n",
       "      <td>False</td>\n",
       "      <td>35000</td>\n",
       "      <td>0.3089</td>\n",
       "      <td>G</td>\n",
       "      <td>4</td>\n",
       "      <td>RENT</td>\n",
       "      <td>75000.0</td>\n",
       "      <td>debt_consolidation</td>\n",
       "      <td>25.44</td>\n",
       "      <td>0</td>\n",
       "      <td>0</td>\n",
       "      <td>0</td>\n",
       "      <td>13771</td>\n",
       "      <td>0</td>\n",
       "      <td>6</td>\n",
       "      <td>143640</td>\n",
       "    </tr>\n",
       "  </tbody>\n",
       "</table>\n",
       "</div>"
      ],
      "text/plain": [
       "        loan_status  loan amount  interest rate LC_grade  \\\n",
       "114907        False        25000         0.1709        D   \n",
       "114908        False         7000         0.2145        D   \n",
       "114909        False        10450         0.2145        D   \n",
       "114910        False        17750         0.1903        D   \n",
       "114911        False        35000         0.3089        G   \n",
       "\n",
       "        length of employment housing situation  annual income  \\\n",
       "114907                    10              RENT       120000.0   \n",
       "114908                     5               OWN        90000.0   \n",
       "114909                     7          MORTGAGE        64000.0   \n",
       "114910                    10          MORTGAGE        50000.0   \n",
       "114911                     4              RENT        75000.0   \n",
       "\n",
       "              loan purpose  debt to income ratio  public records  \\\n",
       "114907      small_business                 13.15               0   \n",
       "114908             medical                 17.36               0   \n",
       "114909      major_purchase                 24.62               0   \n",
       "114910  debt_consolidation                 18.72               0   \n",
       "114911  debt_consolidation                 25.44               0   \n",
       "\n",
       "        delinquency in past 2 years  number of finance trades  \\\n",
       "114907                            0                         1   \n",
       "114908                            0                         1   \n",
       "114909                            0                        13   \n",
       "114910                            0                         1   \n",
       "114911                            0                         0   \n",
       "\n",
       "        bankcard open to buy  mortgage accounts  number of bankcard accounts  \\\n",
       "114907                 74790                  0                            6   \n",
       "114908                  2416                  3                            6   \n",
       "114909                 28475                  2                           11   \n",
       "114910                  4625                  1                            8   \n",
       "114911                 13771                  0                            6   \n",
       "\n",
       "            id  \n",
       "114907  143633  \n",
       "114908  143634  \n",
       "114909  143636  \n",
       "114910  143637  \n",
       "114911  143640  "
      ]
     },
     "execution_count": 69,
     "metadata": {},
     "output_type": "execute_result"
    }
   ],
   "source": [
    "print(df.shape)\n",
    "df.tail(5)\n"
   ]
  },
  {
   "cell_type": "code",
   "execution_count": 75,
   "metadata": {},
   "outputs": [],
   "source": [
    "df.set_index(\"id\", inplace=True)"
   ]
  },
  {
   "cell_type": "code",
   "execution_count": 10,
   "metadata": {},
   "outputs": [
    {
     "name": "stdout",
     "output_type": "stream",
     "text": [
      "<class 'pandas.core.frame.DataFrame'>\n",
      "RangeIndex: 114912 entries, 0 to 114911\n",
      "Data columns (total 16 columns):\n",
      " #   Column                       Non-Null Count   Dtype  \n",
      "---  ------                       --------------   -----  \n",
      " 0   loan_status                  114912 non-null  bool   \n",
      " 1   loan amount                  114912 non-null  int64  \n",
      " 2   interest rate                114912 non-null  float64\n",
      " 3   LC_grade                     114912 non-null  object \n",
      " 4   length of employment         114912 non-null  int64  \n",
      " 5   housing situation            114912 non-null  object \n",
      " 6   annual income                114912 non-null  float64\n",
      " 7   loan purpose                 114912 non-null  object \n",
      " 8   debt to income ratio         114912 non-null  float64\n",
      " 9   public records               114912 non-null  int64  \n",
      " 10  delinquency in past 2 years  114912 non-null  int64  \n",
      " 11  number of finance trades     114912 non-null  int64  \n",
      " 12  bankcard open to buy         114912 non-null  int64  \n",
      " 13  mortgage accounts            114912 non-null  int64  \n",
      " 14  number of bankcard accounts  114912 non-null  int64  \n",
      " 15  id                           114912 non-null  int64  \n",
      "dtypes: bool(1), float64(3), int64(9), object(3)\n",
      "memory usage: 13.3+ MB\n"
     ]
    }
   ],
   "source": [
    "df.info()"
   ]
  },
  {
   "cell_type": "code",
   "execution_count": 11,
   "metadata": {},
   "outputs": [
    {
     "data": {
      "text/html": [
       "<div>\n",
       "<style scoped>\n",
       "    .dataframe tbody tr th:only-of-type {\n",
       "        vertical-align: middle;\n",
       "    }\n",
       "\n",
       "    .dataframe tbody tr th {\n",
       "        vertical-align: top;\n",
       "    }\n",
       "\n",
       "    .dataframe thead th {\n",
       "        text-align: right;\n",
       "    }\n",
       "</style>\n",
       "<table border=\"1\" class=\"dataframe\">\n",
       "  <thead>\n",
       "    <tr style=\"text-align: right;\">\n",
       "      <th></th>\n",
       "      <th>loan amount</th>\n",
       "      <th>interest rate</th>\n",
       "      <th>length of employment</th>\n",
       "      <th>annual income</th>\n",
       "      <th>debt to income ratio</th>\n",
       "      <th>public records</th>\n",
       "      <th>delinquency in past 2 years</th>\n",
       "      <th>number of finance trades</th>\n",
       "      <th>bankcard open to buy</th>\n",
       "      <th>mortgage accounts</th>\n",
       "      <th>number of bankcard accounts</th>\n",
       "      <th>id</th>\n",
       "    </tr>\n",
       "  </thead>\n",
       "  <tbody>\n",
       "    <tr>\n",
       "      <th>count</th>\n",
       "      <td>114912.000000</td>\n",
       "      <td>114912.000000</td>\n",
       "      <td>114912.000000</td>\n",
       "      <td>1.149120e+05</td>\n",
       "      <td>114912.000000</td>\n",
       "      <td>114912.000000</td>\n",
       "      <td>114912.000000</td>\n",
       "      <td>114912.000000</td>\n",
       "      <td>114912.000000</td>\n",
       "      <td>114912.000000</td>\n",
       "      <td>114912.000000</td>\n",
       "      <td>114912.000000</td>\n",
       "    </tr>\n",
       "    <tr>\n",
       "      <th>mean</th>\n",
       "      <td>14794.935907</td>\n",
       "      <td>0.138554</td>\n",
       "      <td>6.056904</td>\n",
       "      <td>8.191096e+04</td>\n",
       "      <td>18.445444</td>\n",
       "      <td>0.256457</td>\n",
       "      <td>0.006562</td>\n",
       "      <td>1.757719</td>\n",
       "      <td>11536.807322</td>\n",
       "      <td>1.663003</td>\n",
       "      <td>7.879691</td>\n",
       "      <td>71820.606899</td>\n",
       "    </tr>\n",
       "    <tr>\n",
       "      <th>std</th>\n",
       "      <td>9171.555917</td>\n",
       "      <td>0.053696</td>\n",
       "      <td>3.719420</td>\n",
       "      <td>8.260210e+04</td>\n",
       "      <td>9.568101</td>\n",
       "      <td>0.645798</td>\n",
       "      <td>0.085654</td>\n",
       "      <td>2.978274</td>\n",
       "      <td>16342.428708</td>\n",
       "      <td>1.912563</td>\n",
       "      <td>4.803094</td>\n",
       "      <td>41459.839938</td>\n",
       "    </tr>\n",
       "    <tr>\n",
       "      <th>min</th>\n",
       "      <td>1000.000000</td>\n",
       "      <td>0.053200</td>\n",
       "      <td>0.000000</td>\n",
       "      <td>6.000000e+02</td>\n",
       "      <td>-1.000000</td>\n",
       "      <td>0.000000</td>\n",
       "      <td>0.000000</td>\n",
       "      <td>0.000000</td>\n",
       "      <td>0.000000</td>\n",
       "      <td>0.000000</td>\n",
       "      <td>0.000000</td>\n",
       "      <td>1.000000</td>\n",
       "    </tr>\n",
       "    <tr>\n",
       "      <th>25%</th>\n",
       "      <td>7600.000000</td>\n",
       "      <td>0.098000</td>\n",
       "      <td>3.000000</td>\n",
       "      <td>5.000000e+04</td>\n",
       "      <td>11.900000</td>\n",
       "      <td>0.000000</td>\n",
       "      <td>0.000000</td>\n",
       "      <td>0.000000</td>\n",
       "      <td>2038.000000</td>\n",
       "      <td>0.000000</td>\n",
       "      <td>4.000000</td>\n",
       "      <td>35883.750000</td>\n",
       "    </tr>\n",
       "    <tr>\n",
       "      <th>50%</th>\n",
       "      <td>12500.000000</td>\n",
       "      <td>0.129900</td>\n",
       "      <td>6.000000</td>\n",
       "      <td>7.000000e+04</td>\n",
       "      <td>17.820000</td>\n",
       "      <td>0.000000</td>\n",
       "      <td>0.000000</td>\n",
       "      <td>1.000000</td>\n",
       "      <td>5971.000000</td>\n",
       "      <td>1.000000</td>\n",
       "      <td>7.000000</td>\n",
       "      <td>71772.500000</td>\n",
       "    </tr>\n",
       "    <tr>\n",
       "      <th>75%</th>\n",
       "      <td>20000.000000</td>\n",
       "      <td>0.169900</td>\n",
       "      <td>10.000000</td>\n",
       "      <td>9.700000e+04</td>\n",
       "      <td>24.470000</td>\n",
       "      <td>0.000000</td>\n",
       "      <td>0.000000</td>\n",
       "      <td>2.000000</td>\n",
       "      <td>14258.250000</td>\n",
       "      <td>3.000000</td>\n",
       "      <td>10.000000</td>\n",
       "      <td>107714.250000</td>\n",
       "    </tr>\n",
       "    <tr>\n",
       "      <th>max</th>\n",
       "      <td>40000.000000</td>\n",
       "      <td>0.309900</td>\n",
       "      <td>10.000000</td>\n",
       "      <td>9.550000e+06</td>\n",
       "      <td>999.000000</td>\n",
       "      <td>46.000000</td>\n",
       "      <td>4.000000</td>\n",
       "      <td>68.000000</td>\n",
       "      <td>320558.000000</td>\n",
       "      <td>51.000000</td>\n",
       "      <td>68.000000</td>\n",
       "      <td>143640.000000</td>\n",
       "    </tr>\n",
       "  </tbody>\n",
       "</table>\n",
       "</div>"
      ],
      "text/plain": [
       "         loan amount  interest rate  length of employment  annual income  \\\n",
       "count  114912.000000  114912.000000         114912.000000   1.149120e+05   \n",
       "mean    14794.935907       0.138554              6.056904   8.191096e+04   \n",
       "std      9171.555917       0.053696              3.719420   8.260210e+04   \n",
       "min      1000.000000       0.053200              0.000000   6.000000e+02   \n",
       "25%      7600.000000       0.098000              3.000000   5.000000e+04   \n",
       "50%     12500.000000       0.129900              6.000000   7.000000e+04   \n",
       "75%     20000.000000       0.169900             10.000000   9.700000e+04   \n",
       "max     40000.000000       0.309900             10.000000   9.550000e+06   \n",
       "\n",
       "       debt to income ratio  public records  delinquency in past 2 years  \\\n",
       "count         114912.000000   114912.000000                114912.000000   \n",
       "mean              18.445444        0.256457                     0.006562   \n",
       "std                9.568101        0.645798                     0.085654   \n",
       "min               -1.000000        0.000000                     0.000000   \n",
       "25%               11.900000        0.000000                     0.000000   \n",
       "50%               17.820000        0.000000                     0.000000   \n",
       "75%               24.470000        0.000000                     0.000000   \n",
       "max              999.000000       46.000000                     4.000000   \n",
       "\n",
       "       number of finance trades  bankcard open to buy  mortgage accounts  \\\n",
       "count             114912.000000         114912.000000      114912.000000   \n",
       "mean                   1.757719          11536.807322           1.663003   \n",
       "std                    2.978274          16342.428708           1.912563   \n",
       "min                    0.000000              0.000000           0.000000   \n",
       "25%                    0.000000           2038.000000           0.000000   \n",
       "50%                    1.000000           5971.000000           1.000000   \n",
       "75%                    2.000000          14258.250000           3.000000   \n",
       "max                   68.000000         320558.000000          51.000000   \n",
       "\n",
       "       number of bankcard accounts             id  \n",
       "count                114912.000000  114912.000000  \n",
       "mean                      7.879691   71820.606899  \n",
       "std                       4.803094   41459.839938  \n",
       "min                       0.000000       1.000000  \n",
       "25%                       4.000000   35883.750000  \n",
       "50%                       7.000000   71772.500000  \n",
       "75%                      10.000000  107714.250000  \n",
       "max                      68.000000  143640.000000  "
      ]
     },
     "execution_count": 11,
     "metadata": {},
     "output_type": "execute_result"
    }
   ],
   "source": [
    "df.describe()"
   ]
  },
  {
   "cell_type": "code",
   "execution_count": 12,
   "metadata": {},
   "outputs": [
    {
     "data": {
      "text/plain": [
       "loan_status                    0\n",
       "loan amount                    0\n",
       "interest rate                  0\n",
       "LC_grade                       0\n",
       "length of employment           0\n",
       "housing situation              0\n",
       "annual income                  0\n",
       "loan purpose                   0\n",
       "debt to income ratio           0\n",
       "public records                 0\n",
       "delinquency in past 2 years    0\n",
       "number of finance trades       0\n",
       "bankcard open to buy           0\n",
       "mortgage accounts              0\n",
       "number of bankcard accounts    0\n",
       "id                             0\n",
       "dtype: int64"
      ]
     },
     "execution_count": 12,
     "metadata": {},
     "output_type": "execute_result"
    }
   ],
   "source": [
    "df.isnull().sum()  "
   ]
  },
  {
   "cell_type": "code",
   "execution_count": 70,
   "metadata": {},
   "outputs": [
    {
     "data": {
      "image/png": "[encoded data removed]",
      "text/plain": [
       "<Figure size 432x288 with 1 Axes>"
      ]
     },
     "metadata": {
      "needs_background": "light"
     },
     "output_type": "display_data"
    }
   ],
   "source": [
    "sns.set_palette(\"pastel\")\n",
    "sns.countplot(y='loan_status',data=df)\n",
    "plt.ylabel('상환여부')\n",
    "plt.show()"
   ]
  },
  {
   "cell_type": "code",
   "execution_count": 40,
   "metadata": {},
   "outputs": [
    {
     "data": {
      "text/plain": [
       "Text(0.5, 0, '일한기간')"
      ]
     },
     "execution_count": 40,
     "metadata": {},
     "output_type": "execute_result"
    },
    {
     "data": {
      "image/png": "[encoded data removed]",
      "text/plain": [
       "<Figure size 432x288 with 1 Axes>"
      ]
     },
     "metadata": {
      "needs_background": "light"
     },
     "output_type": "display_data"
    }
   ],
   "source": [
    "sns.distplot(df['mortgage accounts'],color='red')\n",
    "plt.xlabel('일한기간')"
   ]
  },
  {
   "cell_type": "code",
   "execution_count": 27,
   "metadata": {},
   "outputs": [
    {
     "data": {
      "text/plain": [
       "Text(0.5, 0, '일한기간')"
      ]
     },
     "execution_count": 27,
     "metadata": {},
     "output_type": "execute_result"
    },
    {
     "data": {
      "image/png": "[encoded data removed]",
      "text/plain": [
       "<Figure size 432x288 with 1 Axes>"
      ]
     },
     "metadata": {
      "needs_background": "light"
     },
     "output_type": "display_data"
    }
   ],
   "source": [
    "# 10년이상 일한사람이 많은 것을 보아 주요 대출고객은 30세 이상으로 추정\n",
    "sns.distplot(df['length of employment'],color='red')\n",
    "plt.xlabel('일한기간')"
   ]
  },
  {
   "cell_type": "code",
   "execution_count": 82,
   "metadata": {},
   "outputs": [
    {
     "data": {
      "text/plain": [
       "<matplotlib.axes._subplots.AxesSubplot at 0x1f3e8a3fdc0>"
      ]
     },
     "execution_count": 82,
     "metadata": {},
     "output_type": "execute_result"
    },
    {
     "data": {
      "image/png": "[encoded data removed]",
      "text/plain": [
       "<Figure size 1080x648 with 1 Axes>"
      ]
     },
     "metadata": {
      "needs_background": "light"
     },
     "output_type": "display_data"
    }
   ],
   "source": [
    "# 신용등급별로 값의 평균을 내고 대출금액을 비교하니 등급이 낮을수록 대출액이 많음\n",
    "group = df_.groupby(\"LC_grade\").mean()\n",
    "avg_loan = group['loan amount'].reset_index()\n",
    "plt.subplots(figsize=(15,9))\n",
    "sns.barplot(x='LC_grade', y='loan amount', data=avg_loan)"
   ]
  },
  {
   "cell_type": "code",
   "execution_count": 37,
   "metadata": {},
   "outputs": [
    {
     "data": {
      "text/plain": [
       "<matplotlib.axes._subplots.AxesSubplot at 0x20d61cddf10>"
      ]
     },
     "execution_count": 37,
     "metadata": {},
     "output_type": "execute_result"
    },
    {
     "data": {
      "image/png": "[encoded data removed]",
      "text/plain": [
       "<Figure size 1080x432 with 1 Axes>"
      ]
     },
     "metadata": {
      "needs_background": "light"
     },
     "output_type": "display_data"
    }
   ],
   "source": [
    "#등급이 높은 사람이 대출을 많이 했으며 높을수록 미상환 비율이 높음\n",
    "fig = plt.figure(figsize=(15,6))\n",
    "sns.countplot(x=\"LC_grade\", data=df, hue='loan_status')"
   ]
  },
  {
   "cell_type": "code",
   "execution_count": 29,
   "metadata": {},
   "outputs": [
    {
     "data": {
      "text/plain": [
       "<matplotlib.axes._subplots.AxesSubplot at 0x20d61776670>"
      ]
     },
     "execution_count": 29,
     "metadata": {},
     "output_type": "execute_result"
    },
    {
     "data": {
      "image/png": "[encoded data removed]",
      "text/plain": [
       "<Figure size 1080x432 with 1 Axes>"
      ]
     },
     "metadata": {
      "needs_background": "light"
     },
     "output_type": "display_data"
    }
   ],
   "source": [
    "# 대출목적중에 다른 대출금을 갚기 위했을때 상환하지 못함\n",
    "sns.set_palette(\"pastel\")\n",
    "fig = plt.figure(figsize=(15,6))\n",
    "sns.countplot(x=\"loan purpose\", data=df, hue='loan_status')"
   ]
  },
  {
   "cell_type": "code",
   "execution_count": 45,
   "metadata": {},
   "outputs": [
    {
     "data": {
      "image/png": "[encoded data removed]",
      "text/plain": [
       "<Figure size 648x648 with 1 Axes>"
      ]
     },
     "metadata": {},
     "output_type": "display_data"
    }
   ],
   "source": [
    "labels = ['MORTGAGE', 'Rent','Own','ANY']  # 파이차트 분류에 나타낼 이름\n",
    "size = df['housing situation'].value_counts()   # 해당변수 값들 카운트\n",
    "colors = ['lightgreen', 'orange','red','black']      # 분류별 색깔\n",
    "plt.rcParams['figure.figsize'] = (9, 9)\n",
    "plt.pie(size, colors = colors, labels = labels, shadow = True, autopct = '%.2f%%')  \n",
    "# size에 대해 파이차트 그림 , color은 안주면 자동으로 색 분류, explode는 파이차트는 분류된것으로 차트분리, Shadow는 입체형 , autopct는 소수점\n",
    "plt.title('거주형태', fontsize = 20)\n",
    "plt.axis('off')\n",
    "plt.legend()\n",
    "plt.show()"
   ]
  },
  {
   "cell_type": "code",
   "execution_count": 85,
   "metadata": {},
   "outputs": [
    {
     "data": {
      "text/plain": [
       "<matplotlib.axes._subplots.AxesSubplot at 0x1f3e65819d0>"
      ]
     },
     "execution_count": 85,
     "metadata": {},
     "output_type": "execute_result"
    },
    {
     "data": {
      "image/png": "[encoded data removed]",
      "text/plain": [
       "<Figure size 576x432 with 4 Axes>"
      ]
     },
     "metadata": {
      "needs_background": "light"
     },
     "output_type": "display_data"
    }
   ],
   "source": [
    "fig, axes = plt.subplots(nrows=2,ncols=2)   #박스플롯을 2행 2열로봄\n",
    "fig.set_size_inches(8, 6)\n",
    "sns.distplot(df['loan amount'],ax=axes[0][0])\n",
    "sns.distplot(df['annual income'],ax=axes[0][1])\n",
    "sns.distplot(df['debt to income ratio'],ax=axes[1][0])\n",
    "sns.distplot(df['interest rate'],ax=axes[1][1])"
   ]
  },
  {
   "cell_type": "code",
   "execution_count": 58,
   "metadata": {},
   "outputs": [
    {
     "data": {
      "text/plain": [
       "<matplotlib.axes._subplots.AxesSubplot at 0x21bd4a1a7f0>"
      ]
     },
     "execution_count": 58,
     "metadata": {},
     "output_type": "execute_result"
    },
    {
     "data": {
      "image/png": "[encoded data removed]",
      "text/plain": [
       "<Figure size 720x432 with 4 Axes>"
      ]
     },
     "metadata": {
      "needs_background": "light"
     },
     "output_type": "display_data"
    }
   ],
   "source": [
    "# 소득대비 채무에 이상값이 있어 제거필요\n",
    "fig, axes = plt.subplots(nrows=2,ncols=2)   #박스플롯을 2행 2열로봄\n",
    "fig.set_size_inches(10, 6)\n",
    "sns.boxplot(data=df,y=\"bankcard open to buy\",ax=axes[0][0])\n",
    "sns.boxplot(data=df,y=\"interest rate\",ax=axes[0][1])\n",
    "sns.boxplot(data=df,y=\"annual income\",ax=axes[1][0])\n",
    "sns.boxplot(data=df,y=\"debt to income ratio\",ax=axes[1][1])"
   ]
  },
  {
   "cell_type": "code",
   "execution_count": 66,
   "metadata": {},
   "outputs": [
    {
     "data": {
      "text/plain": [
       "<matplotlib.axes._subplots.AxesSubplot at 0x21bd818e520>"
      ]
     },
     "execution_count": 66,
     "metadata": {},
     "output_type": "execute_result"
    },
    {
     "data": {
      "image/png": "[encoded data removed]",
      "text/plain": [
       "<Figure size 1440x720 with 2 Axes>"
      ]
     },
     "metadata": {
      "needs_background": "light"
     },
     "output_type": "display_data"
    }
   ],
   "source": [
    "corr=pd.DataFrame.corr(df)\n",
    "mask = np.array(corr)\n",
    "mask[np.tril_indices_from(mask)] = False\n",
    "fig, ax = plt.subplots()\n",
    "fig.set_size_inches(20,10)\n",
    "sns.heatmap(corr, mask=mask,vmax=.8, square=True,annot=True)"
   ]
  },
  {
   "cell_type": "markdown",
   "metadata": {},
   "source": [
    "# 전처리"
   ]
  },
  {
   "cell_type": "code",
   "execution_count": 4,
   "metadata": {},
   "outputs": [],
   "source": [
    "# 추정소득 계산\n",
    "df['총소득']=df['annual income']* df['length of employment']\n",
    "for a in range(0,114911):\n",
    "    if(df['annual income'][a] < 17150):\n",
    "        df['추정 소득']=df['총소득']-(df['총소득']*0.04)\n",
    "    elif(17150 <=df['annual income'][a] < 23600):\n",
    "        df['추정 소득']=df['총소득']-(df['총소득']*0.045)\n",
    "    elif(23600 <=df['annual income'][a] < 27900):\n",
    "        df['추정 소득']=df['총소득']-(df['총소득']*0.0525)       \n",
    "    elif(27900 <=df['annual income'][a] < 43000):\n",
    "        df['추정 소득']=df['총소득']-(df['총소득']*0.0633)  \n",
    "    elif(43000 <=df['annual income'][a] < 161550):\n",
    "        df['추정 소득']=df['총소득']-(df['총소득']*0.0657)  \n",
    "    elif(161550 <=df['annual income'][a] < 323220):\n",
    "        df['추정 소득']=df['총소득']-(df['총소득']*0.0685)  \n",
    "    else:\n",
    "        df['추정 소득']=df['총소득']-(df['총소득']*0.082)  "
   ]
  },
  {
   "cell_type": "code",
   "execution_count": 5,
   "metadata": {},
   "outputs": [],
   "source": [
    "# 대출총액\n",
    "df['대출총액']= df['loan amount']+(10000*df['interest rate'])"
   ]
  },
  {
   "cell_type": "code",
   "execution_count": 6,
   "metadata": {},
   "outputs": [],
   "source": [
    "#모기지거래\n",
    "for a in range(0,114911):\n",
    "    if(df['mortgage accounts'][a]>=4):\n",
    "        df['모기지거래']=\"많음\"\n",
    "    else: df['모기지거래']=\"적음\""
   ]
  },
  {
   "cell_type": "code",
   "execution_count": 7,
   "metadata": {},
   "outputs": [],
   "source": [
    "#이상치 제거\n",
    "df= df[df['debt to income ratio']<=40]\n",
    "df= df[df['bankcard open to buy']<=200000]\n",
    "df=df[df['loan amount']<=6000000]"
   ]
  },
  {
   "cell_type": "code",
   "execution_count": 8,
   "metadata": {},
   "outputs": [],
   "source": [
    "#로그화\n",
    "df['loan amount']=preprocessing.scale(np.log(df['loan amount']+1))\n",
    "df['annual income']=preprocessing.scale(np.log(df['annual income']+1))\n",
    "df['debt to income ratio']=preprocessing.scale(np.sqrt(df['debt to income ratio']+1))"
   ]
  },
  {
   "cell_type": "code",
   "execution_count": 9,
   "metadata": {},
   "outputs": [],
   "source": [
    "# 주거형태에서 ANY 제거후 최빈값인 MORTGAGE\n",
    "df['housing situation']=df['housing situation'].replace('ANY','MORTGAGE')"
   ]
  },
  {
   "cell_type": "code",
   "execution_count": 10,
   "metadata": {},
   "outputs": [],
   "source": [
    "#범주변수 재분류\n",
    "df['loan purpose']=df['loan purpose'].replace('car','private')\n",
    "df['loan purpose']=df['loan purpose'].replace('vacation','private')\n",
    "df['loan purpose']=df['loan purpose'].replace('house','private')\n",
    "\n",
    "df['loan purpose']=df['loan purpose'].replace('debt_consolidation','debt repayment')\n",
    "df['loan purpose']=df['loan purpose'].replace('credit_card','debt repayment')\n",
    "\n",
    "df['loan purpose']=df['loan purpose'].replace('small_business','financial technology')\n",
    "df['loan purpose']=df['loan purpose'].replace('renewable_energy','financial technology')\n",
    "\n",
    "df['loan purpose']=df['loan purpose'].replace('major_purchase','compulsory expend')\n",
    "df['loan purpose']=df['loan purpose'].replace('moving','compulsory expend')\n",
    "df['loan purpose']=df['loan purpose'].replace('home_improvement','compulsory expend')\n",
    "df['loan purpose']=df['loan purpose'].replace('medical','compulsory expend')"
   ]
  },
  {
   "cell_type": "code",
   "execution_count": 11,
   "metadata": {},
   "outputs": [],
   "source": [
    "#모든 수치변수를 정규화  /  범주변수를 더미화하기전에 실행\n",
    "num_cols = df.columns[df.dtypes.apply(lambda c: np.issubdtype(c, np.number))]\n",
    "scaler=StandardScaler()\n",
    "df[num_cols] = scaler.fit_transform(df[num_cols])"
   ]
  },
  {
   "cell_type": "code",
   "execution_count": 12,
   "metadata": {},
   "outputs": [],
   "source": [
    "# 더미변수\n",
    "df = pd.get_dummies(df, columns=['housing situation'])\n",
    "df = pd.get_dummies(df, columns=['loan purpose'])\n",
    "df = pd.get_dummies(df, columns=['LC_grade'])\n",
    "df = pd.get_dummies(df, columns=['모기지거래'])"
   ]
  },
  {
   "cell_type": "markdown",
   "metadata": {},
   "source": [
    "# 모델링"
   ]
  },
  {
   "cell_type": "code",
   "execution_count": 13,
   "metadata": {},
   "outputs": [],
   "source": [
    "df.drop(columns=['id','총소득','mortgage accounts' , 'loan amount'], inplace=True)"
   ]
  },
  {
   "cell_type": "code",
   "execution_count": 14,
   "metadata": {},
   "outputs": [],
   "source": [
    "# x, y 나누기\n",
    "X=df.drop('loan_status',axis=1)\n",
    "Y=df['loan_status']\n",
    "X_train,X_test,y_train,y_test= train_test_split(X,Y, test_size=0.3)"
   ]
  },
  {
   "cell_type": "code",
   "execution_count": 15,
   "metadata": {},
   "outputs": [
    {
     "name": "stdout",
     "output_type": "stream",
     "text": [
      "Before OverSampling, counts of label '1': 16400\n",
      "Before OverSampling, counts of label '0': 63400 \n",
      "\n",
      "After OverSampling, counts of label '1': 63400\n",
      "After OverSampling, counts of label '0': 63400\n"
     ]
    }
   ],
   "source": [
    "# 오버샘플링: 채무불이행이 많아 채무이행을 늘림\n",
    "from imblearn.over_sampling import RandomOverSampler\n",
    "from imblearn.under_sampling import RandomUnderSampler\n",
    "\n",
    "print(\"Before OverSampling, counts of label '1': {}\".format(sum(y_train==1)))\n",
    "print(\"Before OverSampling, counts of label '0': {} \\n\".format(sum(y_train==0)))\n",
    "\n",
    "ros = RandomOverSampler(random_state=0)\n",
    "X_train_res, y_train_res = ros.fit_sample(X_train, y_train.ravel())\n",
    "\n",
    "print(\"After OverSampling, counts of label '1': {}\".format(sum(y_train_res==1)))\n",
    "print(\"After OverSampling, counts of label '0': {}\".format(sum(y_train_res==0)))"
   ]
  },
  {
   "cell_type": "code",
   "execution_count": null,
   "metadata": {},
   "outputs": [],
   "source": [
    "from sklearn.svm import SVC\n",
    "model = SVC(kernel='linear').fit(X_train_res, y_train_res)"
   ]
  },
  {
   "cell_type": "code",
   "execution_count": null,
   "metadata": {},
   "outputs": [],
   "source": [
    "SVC_predictions=model.predict(X_test)"
   ]
  },
  {
   "cell_type": "code",
   "execution_count": 20,
   "metadata": {},
   "outputs": [],
   "source": [
    "LR=LogisticRegression()\n",
    "LR.fit(X_train_res,y_train_res)\n",
    "LR_predictions=LR.predict(X_test)"
   ]
  },
  {
   "cell_type": "code",
   "execution_count": 21,
   "metadata": {},
   "outputs": [
    {
     "name": "stdout",
     "output_type": "stream",
     "text": [
      "              precision    recall  f1-score   support\n",
      "\n",
      "       False       0.87      0.63      0.73     27123\n",
      "        True       0.32      0.65      0.43      7078\n",
      "\n",
      "    accuracy                           0.64     34201\n",
      "   macro avg       0.60      0.64      0.58     34201\n",
      "weighted avg       0.76      0.64      0.67     34201\n",
      "\n"
     ]
    }
   ],
   "source": [
    "print(classification_report(y_test, LR_predictions))"
   ]
  },
  {
   "cell_type": "code",
   "execution_count": 22,
   "metadata": {},
   "outputs": [
    {
     "data": {
      "text/plain": [
       "DecisionTreeClassifier()"
      ]
     },
     "execution_count": 22,
     "metadata": {},
     "output_type": "execute_result"
    }
   ],
   "source": [
    "#제일 잘나온 모델을 이용\n",
    "Dicsion_Tree=DecisionTreeClassifier()\n",
    "Dicsion_Tree.fit(X_train_res,y_train_res)"
   ]
  },
  {
   "cell_type": "code",
   "execution_count": 23,
   "metadata": {},
   "outputs": [],
   "source": [
    "predictions=Dicsion_Tree.predict(X_test)"
   ]
  },
  {
   "cell_type": "code",
   "execution_count": 24,
   "metadata": {},
   "outputs": [
    {
     "name": "stdout",
     "output_type": "stream",
     "text": [
      "[[21911  5212]\n",
      " [ 5000  2078]]\n"
     ]
    }
   ],
   "source": [
    "print(confusion_matrix(y_test, predictions))"
   ]
  },
  {
   "cell_type": "code",
   "execution_count": 25,
   "metadata": {},
   "outputs": [
    {
     "name": "stdout",
     "output_type": "stream",
     "text": [
      "              precision    recall  f1-score   support\n",
      "\n",
      "       False       0.81      0.81      0.81     27123\n",
      "        True       0.29      0.29      0.29      7078\n",
      "\n",
      "    accuracy                           0.70     34201\n",
      "   macro avg       0.55      0.55      0.55     34201\n",
      "weighted avg       0.70      0.70      0.70     34201\n",
      "\n"
     ]
    }
   ],
   "source": [
    "print(classification_report(y_test, predictions))"
   ]
  },
  {
   "cell_type": "code",
   "execution_count": 16,
   "metadata": {},
   "outputs": [
    {
     "data": {
      "text/plain": [
       "RandomForestClassifier()"
      ]
     },
     "execution_count": 16,
     "metadata": {},
     "output_type": "execute_result"
    }
   ],
   "source": [
    "RF=RandomForestClassifier()\n",
    "RF.fit(X_train_res,y_train_res)"
   ]
  },
  {
   "cell_type": "code",
   "execution_count": 17,
   "metadata": {},
   "outputs": [],
   "source": [
    "RF_prediction= RF.predict(X_test)"
   ]
  },
  {
   "cell_type": "code",
   "execution_count": 18,
   "metadata": {},
   "outputs": [
    {
     "name": "stdout",
     "output_type": "stream",
     "text": [
      "[[25305  1674]\n",
      " [ 5756  1466]]\n"
     ]
    }
   ],
   "source": [
    "print(confusion_matrix(y_test, RF_prediction))"
   ]
  },
  {
   "cell_type": "code",
   "execution_count": 19,
   "metadata": {},
   "outputs": [
    {
     "name": "stdout",
     "output_type": "stream",
     "text": [
      "              precision    recall  f1-score   support\n",
      "\n",
      "       False       0.81      0.94      0.87     26979\n",
      "        True       0.47      0.20      0.28      7222\n",
      "\n",
      "    accuracy                           0.78     34201\n",
      "   macro avg       0.64      0.57      0.58     34201\n",
      "weighted avg       0.74      0.78      0.75     34201\n",
      "\n"
     ]
    }
   ],
   "source": [
    "print(classification_report(y_test, RF_prediction))"
   ]
  },
  {
   "cell_type": "code",
   "execution_count": 38,
   "metadata": {},
   "outputs": [],
   "source": [
    "from sklearn.inspection import permutation_importance"
   ]
  },
  {
   "cell_type": "code",
   "execution_count": 41,
   "metadata": {},
   "outputs": [
    {
     "name": "stdout",
     "output_type": "stream",
     "text": [
      "Explained as: feature importances\n",
      "\n",
      "Feature importances, computed as a decrease in score when feature\n",
      "values are permuted (i.e. become noise). This is also known as \n",
      "permutation importance.\n",
      "\n",
      "If feature importances are computed on the same data as used for training, \n",
      "they don't reflect importance of features for generalization. Use a held-out\n",
      "dataset if you want generalization feature importances.\n",
      "\n",
      "0.0022 ± 0.0014  debt to income ratio\n",
      "0.0005 ± 0.0015  bankcard open to buy\n",
      "0.0003 ± 0.0003  LC_grade_F\n",
      "0.0002 ± 0.0007  LC_grade_D\n",
      "0.0001 ± 0.0006  LC_grade_E\n",
      "0.0001 ± 0.0024  대출총액\n",
      "0.0001 ± 0.0001  LC_grade_G\n",
      "0.0001 ± 0.0001  loan purpose_private\n",
      "     0 ± 0.0000  모기지거래_적음\n",
      "-0.0000 ± 0.0006  public records\n",
      "-0.0001 ± 0.0001  delinquency in past 2 years\n",
      "-0.0001 ± 0.0003  loan purpose_financial technology\n",
      "-0.0002 ± 0.0005  loan purpose_compulsory expend\n",
      "-0.0003 ± 0.0002  loan purpose_other\n",
      "-0.0006 ± 0.0007  LC_grade_C\n",
      "-0.0006 ± 0.0008  number of bankcard accounts\n",
      "-0.0007 ± 0.0002  housing situation_OWN\n",
      "-0.0007 ± 0.0011  housing situation_RENT\n",
      "-0.0008 ± 0.0019  number of finance trades\n",
      "-0.0009 ± 0.0009  loan purpose_debt repayment\n",
      "                    … 7 more …                     \n"
     ]
    }
   ],
   "source": [
    "import eli5\n",
    "from eli5.sklearn import PermutationImportance\n",
    "\n",
    "perm = PermutationImportance(RF, random_state=1).fit(X_test, y_test)\n",
    "eli5.show_weights(perm, feature_names = X_test.columns.tolist())\n",
    "\n",
    "print(eli5.format_as_text(eli5.explain_weights(perm, feature_names = X_test.columns.tolist())))"
   ]
  },
  {
   "cell_type": "code",
   "execution_count": 20,
   "metadata": {},
   "outputs": [
    {
     "name": "stdout",
     "output_type": "stream",
     "text": [
      "[0.80263158 0.7943609  0.79630326 0.79392231 0.79442356]\n"
     ]
    }
   ],
   "source": [
    "# k-fold 교차검정\n",
    "kfold = KFold(n_splits=5, shuffle=True, random_state=7) \n",
    "results = cross_val_score(RF, X_train, y_train, cv=kfold)\n",
    "print(results)"
   ]
  },
  {
   "cell_type": "markdown",
   "metadata": {},
   "source": [
    "# 결과물제출"
   ]
  },
  {
   "cell_type": "code",
   "execution_count": 21,
   "metadata": {},
   "outputs": [
    {
     "data": {
      "text/html": [
       "<div>\n",
       "<style scoped>\n",
       "    .dataframe tbody tr th:only-of-type {\n",
       "        vertical-align: middle;\n",
       "    }\n",
       "\n",
       "    .dataframe tbody tr th {\n",
       "        vertical-align: top;\n",
       "    }\n",
       "\n",
       "    .dataframe thead th {\n",
       "        text-align: right;\n",
       "    }\n",
       "</style>\n",
       "<table border=\"1\" class=\"dataframe\">\n",
       "  <thead>\n",
       "    <tr style=\"text-align: right;\">\n",
       "      <th></th>\n",
       "      <th>loan_status</th>\n",
       "      <th>loan amount</th>\n",
       "      <th>interest rate</th>\n",
       "      <th>LC_grade</th>\n",
       "      <th>length of employment</th>\n",
       "      <th>housing situation</th>\n",
       "      <th>annual income</th>\n",
       "      <th>loan purpose</th>\n",
       "      <th>debt to income ratio</th>\n",
       "      <th>public records</th>\n",
       "      <th>delinquency in past 2 years</th>\n",
       "      <th>number of finance trades</th>\n",
       "      <th>bankcard open to buy</th>\n",
       "      <th>mortgage accounts</th>\n",
       "      <th>number of bankcard accounts</th>\n",
       "      <th>id</th>\n",
       "    </tr>\n",
       "  </thead>\n",
       "  <tbody>\n",
       "    <tr>\n",
       "      <th>0</th>\n",
       "      <td>NaN</td>\n",
       "      <td>20000</td>\n",
       "      <td>0.0916</td>\n",
       "      <td>B</td>\n",
       "      <td>10</td>\n",
       "      <td>MORTGAGE</td>\n",
       "      <td>65000.0</td>\n",
       "      <td>debt_consolidation</td>\n",
       "      <td>28.88</td>\n",
       "      <td>0</td>\n",
       "      <td>0</td>\n",
       "      <td>6</td>\n",
       "      <td>4549</td>\n",
       "      <td>6</td>\n",
       "      <td>10</td>\n",
       "      <td>3</td>\n",
       "    </tr>\n",
       "    <tr>\n",
       "      <th>1</th>\n",
       "      <td>NaN</td>\n",
       "      <td>34000</td>\n",
       "      <td>0.0975</td>\n",
       "      <td>B</td>\n",
       "      <td>10</td>\n",
       "      <td>MORTGAGE</td>\n",
       "      <td>237000.0</td>\n",
       "      <td>debt_consolidation</td>\n",
       "      <td>22.53</td>\n",
       "      <td>1</td>\n",
       "      <td>0</td>\n",
       "      <td>0</td>\n",
       "      <td>13739</td>\n",
       "      <td>4</td>\n",
       "      <td>14</td>\n",
       "      <td>5</td>\n",
       "    </tr>\n",
       "    <tr>\n",
       "      <th>2</th>\n",
       "      <td>NaN</td>\n",
       "      <td>12000</td>\n",
       "      <td>0.1999</td>\n",
       "      <td>E</td>\n",
       "      <td>10</td>\n",
       "      <td>MORTGAGE</td>\n",
       "      <td>56000.0</td>\n",
       "      <td>debt_consolidation</td>\n",
       "      <td>15.32</td>\n",
       "      <td>0</td>\n",
       "      <td>0</td>\n",
       "      <td>1</td>\n",
       "      <td>8843</td>\n",
       "      <td>4</td>\n",
       "      <td>5</td>\n",
       "      <td>6</td>\n",
       "    </tr>\n",
       "    <tr>\n",
       "      <th>3</th>\n",
       "      <td>NaN</td>\n",
       "      <td>35000</td>\n",
       "      <td>0.1953</td>\n",
       "      <td>D</td>\n",
       "      <td>10</td>\n",
       "      <td>MORTGAGE</td>\n",
       "      <td>84000.0</td>\n",
       "      <td>debt_consolidation</td>\n",
       "      <td>24.11</td>\n",
       "      <td>2</td>\n",
       "      <td>0</td>\n",
       "      <td>1</td>\n",
       "      <td>11707</td>\n",
       "      <td>1</td>\n",
       "      <td>11</td>\n",
       "      <td>9</td>\n",
       "    </tr>\n",
       "    <tr>\n",
       "      <th>4</th>\n",
       "      <td>NaN</td>\n",
       "      <td>23350</td>\n",
       "      <td>0.1899</td>\n",
       "      <td>D</td>\n",
       "      <td>9</td>\n",
       "      <td>MORTGAGE</td>\n",
       "      <td>58000.0</td>\n",
       "      <td>credit_card</td>\n",
       "      <td>28.86</td>\n",
       "      <td>0</td>\n",
       "      <td>0</td>\n",
       "      <td>0</td>\n",
       "      <td>446</td>\n",
       "      <td>1</td>\n",
       "      <td>10</td>\n",
       "      <td>11</td>\n",
       "    </tr>\n",
       "  </tbody>\n",
       "</table>\n",
       "</div>"
      ],
      "text/plain": [
       "   loan_status  loan amount  interest rate LC_grade  length of employment  \\\n",
       "0          NaN        20000         0.0916        B                    10   \n",
       "1          NaN        34000         0.0975        B                    10   \n",
       "2          NaN        12000         0.1999        E                    10   \n",
       "3          NaN        35000         0.1953        D                    10   \n",
       "4          NaN        23350         0.1899        D                     9   \n",
       "\n",
       "  housing situation  annual income        loan purpose  debt to income ratio  \\\n",
       "0          MORTGAGE        65000.0  debt_consolidation                 28.88   \n",
       "1          MORTGAGE       237000.0  debt_consolidation                 22.53   \n",
       "2          MORTGAGE        56000.0  debt_consolidation                 15.32   \n",
       "3          MORTGAGE        84000.0  debt_consolidation                 24.11   \n",
       "4          MORTGAGE        58000.0         credit_card                 28.86   \n",
       "\n",
       "   public records  delinquency in past 2 years  number of finance trades  \\\n",
       "0               0                            0                         6   \n",
       "1               1                            0                         0   \n",
       "2               0                            0                         1   \n",
       "3               2                            0                         1   \n",
       "4               0                            0                         0   \n",
       "\n",
       "   bankcard open to buy  mortgage accounts  number of bankcard accounts  id  \n",
       "0                  4549                  6                           10   3  \n",
       "1                 13739                  4                           14   5  \n",
       "2                  8843                  4                            5   6  \n",
       "3                 11707                  1                           11   9  \n",
       "4                   446                  1                           10  11  "
      ]
     },
     "execution_count": 21,
     "metadata": {},
     "output_type": "execute_result"
    }
   ],
   "source": [
    "submit=pd.read_excel('Submit_Dataset.xlsx')\n",
    "submit.head()"
   ]
  },
  {
   "cell_type": "code",
   "execution_count": 32,
   "metadata": {},
   "outputs": [
    {
     "data": {
      "text/html": [
       "<div>\n",
       "<style scoped>\n",
       "    .dataframe tbody tr th:only-of-type {\n",
       "        vertical-align: middle;\n",
       "    }\n",
       "\n",
       "    .dataframe tbody tr th {\n",
       "        vertical-align: top;\n",
       "    }\n",
       "\n",
       "    .dataframe thead th {\n",
       "        text-align: right;\n",
       "    }\n",
       "</style>\n",
       "<table border=\"1\" class=\"dataframe\">\n",
       "  <thead>\n",
       "    <tr style=\"text-align: right;\">\n",
       "      <th></th>\n",
       "      <th>loan amount</th>\n",
       "      <th>interest rate</th>\n",
       "      <th>LC_grade</th>\n",
       "      <th>length of employment</th>\n",
       "      <th>housing situation</th>\n",
       "      <th>annual income</th>\n",
       "      <th>loan purpose</th>\n",
       "      <th>debt to income ratio</th>\n",
       "      <th>public records</th>\n",
       "      <th>delinquency in past 2 years</th>\n",
       "      <th>number of finance trades</th>\n",
       "      <th>bankcard open to buy</th>\n",
       "      <th>mortgage accounts</th>\n",
       "      <th>number of bankcard accounts</th>\n",
       "      <th>id</th>\n",
       "    </tr>\n",
       "  </thead>\n",
       "  <tbody>\n",
       "    <tr>\n",
       "      <th>0</th>\n",
       "      <td>20000</td>\n",
       "      <td>0.0916</td>\n",
       "      <td>B</td>\n",
       "      <td>10</td>\n",
       "      <td>MORTGAGE</td>\n",
       "      <td>65000.0</td>\n",
       "      <td>debt_consolidation</td>\n",
       "      <td>28.88</td>\n",
       "      <td>0</td>\n",
       "      <td>0</td>\n",
       "      <td>6</td>\n",
       "      <td>4549</td>\n",
       "      <td>6</td>\n",
       "      <td>10</td>\n",
       "      <td>3</td>\n",
       "    </tr>\n",
       "    <tr>\n",
       "      <th>1</th>\n",
       "      <td>34000</td>\n",
       "      <td>0.0975</td>\n",
       "      <td>B</td>\n",
       "      <td>10</td>\n",
       "      <td>MORTGAGE</td>\n",
       "      <td>237000.0</td>\n",
       "      <td>debt_consolidation</td>\n",
       "      <td>22.53</td>\n",
       "      <td>1</td>\n",
       "      <td>0</td>\n",
       "      <td>0</td>\n",
       "      <td>13739</td>\n",
       "      <td>4</td>\n",
       "      <td>14</td>\n",
       "      <td>5</td>\n",
       "    </tr>\n",
       "    <tr>\n",
       "      <th>2</th>\n",
       "      <td>12000</td>\n",
       "      <td>0.1999</td>\n",
       "      <td>E</td>\n",
       "      <td>10</td>\n",
       "      <td>MORTGAGE</td>\n",
       "      <td>56000.0</td>\n",
       "      <td>debt_consolidation</td>\n",
       "      <td>15.32</td>\n",
       "      <td>0</td>\n",
       "      <td>0</td>\n",
       "      <td>1</td>\n",
       "      <td>8843</td>\n",
       "      <td>4</td>\n",
       "      <td>5</td>\n",
       "      <td>6</td>\n",
       "    </tr>\n",
       "    <tr>\n",
       "      <th>3</th>\n",
       "      <td>35000</td>\n",
       "      <td>0.1953</td>\n",
       "      <td>D</td>\n",
       "      <td>10</td>\n",
       "      <td>MORTGAGE</td>\n",
       "      <td>84000.0</td>\n",
       "      <td>debt_consolidation</td>\n",
       "      <td>24.11</td>\n",
       "      <td>2</td>\n",
       "      <td>0</td>\n",
       "      <td>1</td>\n",
       "      <td>11707</td>\n",
       "      <td>1</td>\n",
       "      <td>11</td>\n",
       "      <td>9</td>\n",
       "    </tr>\n",
       "    <tr>\n",
       "      <th>4</th>\n",
       "      <td>23350</td>\n",
       "      <td>0.1899</td>\n",
       "      <td>D</td>\n",
       "      <td>9</td>\n",
       "      <td>MORTGAGE</td>\n",
       "      <td>58000.0</td>\n",
       "      <td>credit_card</td>\n",
       "      <td>28.86</td>\n",
       "      <td>0</td>\n",
       "      <td>0</td>\n",
       "      <td>0</td>\n",
       "      <td>446</td>\n",
       "      <td>1</td>\n",
       "      <td>10</td>\n",
       "      <td>11</td>\n",
       "    </tr>\n",
       "    <tr>\n",
       "      <th>...</th>\n",
       "      <td>...</td>\n",
       "      <td>...</td>\n",
       "      <td>...</td>\n",
       "      <td>...</td>\n",
       "      <td>...</td>\n",
       "      <td>...</td>\n",
       "      <td>...</td>\n",
       "      <td>...</td>\n",
       "      <td>...</td>\n",
       "      <td>...</td>\n",
       "      <td>...</td>\n",
       "      <td>...</td>\n",
       "      <td>...</td>\n",
       "      <td>...</td>\n",
       "      <td>...</td>\n",
       "    </tr>\n",
       "    <tr>\n",
       "      <th>28723</th>\n",
       "      <td>15000</td>\n",
       "      <td>0.0797</td>\n",
       "      <td>A</td>\n",
       "      <td>10</td>\n",
       "      <td>MORTGAGE</td>\n",
       "      <td>54000.0</td>\n",
       "      <td>credit_card</td>\n",
       "      <td>26.40</td>\n",
       "      <td>0</td>\n",
       "      <td>0</td>\n",
       "      <td>2</td>\n",
       "      <td>11821</td>\n",
       "      <td>1</td>\n",
       "      <td>8</td>\n",
       "      <td>143625</td>\n",
       "    </tr>\n",
       "    <tr>\n",
       "      <th>28724</th>\n",
       "      <td>24000</td>\n",
       "      <td>0.2969</td>\n",
       "      <td>F</td>\n",
       "      <td>2</td>\n",
       "      <td>RENT</td>\n",
       "      <td>102000.0</td>\n",
       "      <td>medical</td>\n",
       "      <td>13.08</td>\n",
       "      <td>1</td>\n",
       "      <td>0</td>\n",
       "      <td>0</td>\n",
       "      <td>13837</td>\n",
       "      <td>0</td>\n",
       "      <td>7</td>\n",
       "      <td>143627</td>\n",
       "    </tr>\n",
       "    <tr>\n",
       "      <th>28725</th>\n",
       "      <td>16000</td>\n",
       "      <td>0.3065</td>\n",
       "      <td>F</td>\n",
       "      <td>10</td>\n",
       "      <td>OWN</td>\n",
       "      <td>40000.0</td>\n",
       "      <td>credit_card</td>\n",
       "      <td>26.05</td>\n",
       "      <td>1</td>\n",
       "      <td>0</td>\n",
       "      <td>0</td>\n",
       "      <td>3582</td>\n",
       "      <td>0</td>\n",
       "      <td>20</td>\n",
       "      <td>143635</td>\n",
       "    </tr>\n",
       "    <tr>\n",
       "      <th>28726</th>\n",
       "      <td>35000</td>\n",
       "      <td>0.2630</td>\n",
       "      <td>E</td>\n",
       "      <td>10</td>\n",
       "      <td>RENT</td>\n",
       "      <td>88000.0</td>\n",
       "      <td>home_improvement</td>\n",
       "      <td>18.63</td>\n",
       "      <td>0</td>\n",
       "      <td>0</td>\n",
       "      <td>3</td>\n",
       "      <td>18465</td>\n",
       "      <td>0</td>\n",
       "      <td>10</td>\n",
       "      <td>143638</td>\n",
       "    </tr>\n",
       "    <tr>\n",
       "      <th>28727</th>\n",
       "      <td>7000</td>\n",
       "      <td>0.3094</td>\n",
       "      <td>G</td>\n",
       "      <td>10</td>\n",
       "      <td>MORTGAGE</td>\n",
       "      <td>126999.0</td>\n",
       "      <td>home_improvement</td>\n",
       "      <td>32.41</td>\n",
       "      <td>0</td>\n",
       "      <td>0</td>\n",
       "      <td>9</td>\n",
       "      <td>921</td>\n",
       "      <td>2</td>\n",
       "      <td>20</td>\n",
       "      <td>143639</td>\n",
       "    </tr>\n",
       "  </tbody>\n",
       "</table>\n",
       "<p>28728 rows × 15 columns</p>\n",
       "</div>"
      ],
      "text/plain": [
       "       loan amount  interest rate LC_grade  length of employment  \\\n",
       "0            20000         0.0916        B                    10   \n",
       "1            34000         0.0975        B                    10   \n",
       "2            12000         0.1999        E                    10   \n",
       "3            35000         0.1953        D                    10   \n",
       "4            23350         0.1899        D                     9   \n",
       "...            ...            ...      ...                   ...   \n",
       "28723        15000         0.0797        A                    10   \n",
       "28724        24000         0.2969        F                     2   \n",
       "28725        16000         0.3065        F                    10   \n",
       "28726        35000         0.2630        E                    10   \n",
       "28727         7000         0.3094        G                    10   \n",
       "\n",
       "      housing situation  annual income        loan purpose  \\\n",
       "0              MORTGAGE        65000.0  debt_consolidation   \n",
       "1              MORTGAGE       237000.0  debt_consolidation   \n",
       "2              MORTGAGE        56000.0  debt_consolidation   \n",
       "3              MORTGAGE        84000.0  debt_consolidation   \n",
       "4              MORTGAGE        58000.0         credit_card   \n",
       "...                 ...            ...                 ...   \n",
       "28723          MORTGAGE        54000.0         credit_card   \n",
       "28724              RENT       102000.0             medical   \n",
       "28725               OWN        40000.0         credit_card   \n",
       "28726              RENT        88000.0    home_improvement   \n",
       "28727          MORTGAGE       126999.0    home_improvement   \n",
       "\n",
       "       debt to income ratio  public records  delinquency in past 2 years  \\\n",
       "0                     28.88               0                            0   \n",
       "1                     22.53               1                            0   \n",
       "2                     15.32               0                            0   \n",
       "3                     24.11               2                            0   \n",
       "4                     28.86               0                            0   \n",
       "...                     ...             ...                          ...   \n",
       "28723                 26.40               0                            0   \n",
       "28724                 13.08               1                            0   \n",
       "28725                 26.05               1                            0   \n",
       "28726                 18.63               0                            0   \n",
       "28727                 32.41               0                            0   \n",
       "\n",
       "       number of finance trades  bankcard open to buy  mortgage accounts  \\\n",
       "0                             6                  4549                  6   \n",
       "1                             0                 13739                  4   \n",
       "2                             1                  8843                  4   \n",
       "3                             1                 11707                  1   \n",
       "4                             0                   446                  1   \n",
       "...                         ...                   ...                ...   \n",
       "28723                         2                 11821                  1   \n",
       "28724                         0                 13837                  0   \n",
       "28725                         0                  3582                  0   \n",
       "28726                         3                 18465                  0   \n",
       "28727                         9                   921                  2   \n",
       "\n",
       "       number of bankcard accounts      id  \n",
       "0                               10       3  \n",
       "1                               14       5  \n",
       "2                                5       6  \n",
       "3                               11       9  \n",
       "4                               10      11  \n",
       "...                            ...     ...  \n",
       "28723                            8  143625  \n",
       "28724                            7  143627  \n",
       "28725                           20  143635  \n",
       "28726                           10  143638  \n",
       "28727                           20  143639  \n",
       "\n",
       "[28728 rows x 15 columns]"
      ]
     },
     "execution_count": 32,
     "metadata": {},
     "output_type": "execute_result"
    }
   ],
   "source": [
    "sub=submit.drop('loan_status',axis=1)\n",
    "sub"
   ]
  },
  {
   "cell_type": "code",
   "execution_count": 33,
   "metadata": {},
   "outputs": [],
   "source": [
    "# 추정소득 계산\n",
    "sub['총소득']=sub['annual income']* sub['length of employment']\n",
    "for a in range(0,28727):\n",
    "    if(sub['annual income'][a] < 17150):\n",
    "        sub['추정 소득']=sub['총소득']-(sub['총소득']*0.04)\n",
    "    elif(17150 <=sub['annual income'][a] < 23600):\n",
    "        sub['추정 소득']=sub['총소득']-(sub['총소득']*0.045)\n",
    "    elif(23600 <=sub['annual income'][a] < 27900):\n",
    "        sub['추정 소득']=sub['총소득']-(sub['총소득']*0.0525)       \n",
    "    elif(27900 <=sub['annual income'][a] < 43000):\n",
    "        sub['추정 소득']=sub['총소득']-(sub['총소득']*0.0633)  \n",
    "    elif(43000 <=sub['annual income'][a] < 161550):\n",
    "        sub['추정 소득']=sub['총소득']-(sub['총소득']*0.0657)  \n",
    "    elif(161550 <=sub['annual income'][a] < 323220):\n",
    "        sub['추정 소득']=sub['총소득']-(sub['총소득']*0.0685)  \n",
    "    else:\n",
    "        sub['추정 소득']=sub['총소득']-(sub['총소득']*0.082) \n",
    "\n",
    "# 대출총액\n",
    "sub['대출총액']= sub['loan amount']+(10000*sub['interest rate'])\n",
    "\n",
    "#모기지거래\n",
    "for a in range(0,28727):\n",
    "    if(sub['mortgage accounts'][a]>=4):\n",
    "        sub['모기지거래']=\"많음\"\n",
    "    else: sub['모기지거래']=\"적음\"\n",
    "\n",
    "\n",
    "#로그화\n",
    "sub['loan amount']=preprocessing.scale(np.log(sub['loan amount']+1))\n",
    "sub['annual income']=preprocessing.scale(np.log(sub['annual income']+1))\n",
    "sub['debt to income ratio']=preprocessing.scale(np.sqrt(sub['debt to income ratio']+1))\n",
    "\n",
    "# 주거형태에서 ANY 제거후 최빈값인 MORTGAGE\n",
    "sub['housing situation']=sub['housing situation'].replace('ANY','MORTGAGE')\n",
    "\n",
    "#범주변수 재분류\n",
    "sub['loan purpose']=sub['loan purpose'].replace('car','private')\n",
    "sub['loan purpose']=sub['loan purpose'].replace('vacation','private')\n",
    "sub['loan purpose']=sub['loan purpose'].replace('house','private')\n",
    "\n",
    "sub['loan purpose']=sub['loan purpose'].replace('debt_consolidation','debt repayment')\n",
    "sub['loan purpose']=sub['loan purpose'].replace('credit_card','debt repayment')\n",
    "\n",
    "sub['loan purpose']=sub['loan purpose'].replace('small_business','financial technology')\n",
    "sub['loan purpose']=sub['loan purpose'].replace('renewable_energy','financial technology')\n",
    "\n",
    "sub['loan purpose']=sub['loan purpose'].replace('major_purchase','compulsory expend')\n",
    "sub['loan purpose']=sub['loan purpose'].replace('moving','compulsory expend')\n",
    "sub['loan purpose']=sub['loan purpose'].replace('home_improvement','compulsory expend')\n",
    "sub['loan purpose']=sub['loan purpose'].replace('medical','compulsory expend')\n",
    "\n",
    "#모든 수치변수를 정규화  /  범주변수를 더미화하기전에 실행\n",
    "num_cols = sub.columns[sub.dtypes.apply(lambda c: np.issubdtype(c, np.number))]\n",
    "scaler=StandardScaler()\n",
    "sub[num_cols] = scaler.fit_transform(sub[num_cols])\n",
    "\n",
    "# 더미변수\n",
    "sub = pd.get_dummies(sub, columns=['housing situation'])\n",
    "sub = pd.get_dummies(sub, columns=['loan purpose'])\n",
    "sub = pd.get_dummies(sub, columns=['LC_grade'])\n",
    "sub = pd.get_dummies(sub, columns=['모기지거래'])\n",
    "\n",
    "sub.drop(columns=['id','총소득','mortgage accounts' , 'loan amount'], inplace=True)"
   ]
  },
  {
   "cell_type": "code",
   "execution_count": 34,
   "metadata": {},
   "outputs": [],
   "source": [
    "Predict=RF.predict(sub)"
   ]
  },
  {
   "cell_type": "code",
   "execution_count": 37,
   "metadata": {},
   "outputs": [],
   "source": [
    "pd.DataFrame({'loan_status': Predict}).to_csv('submit.csv')"
   ]
  },
  {
   "cell_type": "code",
   "execution_count": 36,
   "metadata": {},
   "outputs": [
    {
     "data": {
      "text/html": [
       "<div>\n",
       "<style scoped>\n",
       "    .dataframe tbody tr th:only-of-type {\n",
       "        vertical-align: middle;\n",
       "    }\n",
       "\n",
       "    .dataframe tbody tr th {\n",
       "        vertical-align: top;\n",
       "    }\n",
       "\n",
       "    .dataframe thead th {\n",
       "        text-align: right;\n",
       "    }\n",
       "</style>\n",
       "<table border=\"1\" class=\"dataframe\">\n",
       "  <thead>\n",
       "    <tr style=\"text-align: right;\">\n",
       "      <th></th>\n",
       "      <th>interest rate</th>\n",
       "      <th>length of employment</th>\n",
       "      <th>annual income</th>\n",
       "      <th>debt to income ratio</th>\n",
       "      <th>public records</th>\n",
       "      <th>delinquency in past 2 years</th>\n",
       "      <th>number of finance trades</th>\n",
       "      <th>bankcard open to buy</th>\n",
       "      <th>number of bankcard accounts</th>\n",
       "      <th>추정 소득</th>\n",
       "      <th>...</th>\n",
       "      <th>loan purpose_other</th>\n",
       "      <th>loan purpose_private</th>\n",
       "      <th>LC_grade_A</th>\n",
       "      <th>LC_grade_B</th>\n",
       "      <th>LC_grade_C</th>\n",
       "      <th>LC_grade_D</th>\n",
       "      <th>LC_grade_E</th>\n",
       "      <th>LC_grade_F</th>\n",
       "      <th>LC_grade_G</th>\n",
       "      <th>모기지거래_적음</th>\n",
       "    </tr>\n",
       "  </thead>\n",
       "  <tbody>\n",
       "    <tr>\n",
       "      <th>0</th>\n",
       "      <td>-0.874634</td>\n",
       "      <td>1.066527</td>\n",
       "      <td>-0.160289</td>\n",
       "      <td>1.126645</td>\n",
       "      <td>-0.405355</td>\n",
       "      <td>-0.074918</td>\n",
       "      <td>1.442134</td>\n",
       "      <td>-0.413480</td>\n",
       "      <td>0.450474</td>\n",
       "      <td>0.264811</td>\n",
       "      <td>...</td>\n",
       "      <td>0</td>\n",
       "      <td>0</td>\n",
       "      <td>0</td>\n",
       "      <td>1</td>\n",
       "      <td>0</td>\n",
       "      <td>0</td>\n",
       "      <td>0</td>\n",
       "      <td>0</td>\n",
       "      <td>0</td>\n",
       "      <td>1</td>\n",
       "    </tr>\n",
       "    <tr>\n",
       "      <th>1</th>\n",
       "      <td>-0.765239</td>\n",
       "      <td>1.066527</td>\n",
       "      <td>2.341937</td>\n",
       "      <td>0.544783</td>\n",
       "      <td>1.162156</td>\n",
       "      <td>-0.074918</td>\n",
       "      <td>-0.593403</td>\n",
       "      <td>0.138815</td>\n",
       "      <td>1.288256</td>\n",
       "      <td>3.564585</td>\n",
       "      <td>...</td>\n",
       "      <td>0</td>\n",
       "      <td>0</td>\n",
       "      <td>0</td>\n",
       "      <td>1</td>\n",
       "      <td>0</td>\n",
       "      <td>0</td>\n",
       "      <td>0</td>\n",
       "      <td>0</td>\n",
       "      <td>0</td>\n",
       "      <td>1</td>\n",
       "    </tr>\n",
       "    <tr>\n",
       "      <th>2</th>\n",
       "      <td>1.133417</td>\n",
       "      <td>1.066527</td>\n",
       "      <td>-0.448552</td>\n",
       "      <td>-0.221883</td>\n",
       "      <td>-0.405355</td>\n",
       "      <td>-0.074918</td>\n",
       "      <td>-0.254147</td>\n",
       "      <td>-0.155422</td>\n",
       "      <td>-0.596753</td>\n",
       "      <td>0.092149</td>\n",
       "      <td>...</td>\n",
       "      <td>0</td>\n",
       "      <td>0</td>\n",
       "      <td>0</td>\n",
       "      <td>0</td>\n",
       "      <td>0</td>\n",
       "      <td>0</td>\n",
       "      <td>1</td>\n",
       "      <td>0</td>\n",
       "      <td>0</td>\n",
       "      <td>1</td>\n",
       "    </tr>\n",
       "    <tr>\n",
       "      <th>3</th>\n",
       "      <td>1.048126</td>\n",
       "      <td>1.066527</td>\n",
       "      <td>0.335695</td>\n",
       "      <td>0.696245</td>\n",
       "      <td>2.729667</td>\n",
       "      <td>-0.074918</td>\n",
       "      <td>-0.254147</td>\n",
       "      <td>0.016697</td>\n",
       "      <td>0.659919</td>\n",
       "      <td>0.629321</td>\n",
       "      <td>...</td>\n",
       "      <td>0</td>\n",
       "      <td>0</td>\n",
       "      <td>0</td>\n",
       "      <td>0</td>\n",
       "      <td>0</td>\n",
       "      <td>1</td>\n",
       "      <td>0</td>\n",
       "      <td>0</td>\n",
       "      <td>0</td>\n",
       "      <td>1</td>\n",
       "    </tr>\n",
       "    <tr>\n",
       "      <th>4</th>\n",
       "      <td>0.948001</td>\n",
       "      <td>0.796290</td>\n",
       "      <td>-0.380678</td>\n",
       "      <td>1.124915</td>\n",
       "      <td>-0.405355</td>\n",
       "      <td>-0.074918</td>\n",
       "      <td>-0.593403</td>\n",
       "      <td>-0.660060</td>\n",
       "      <td>0.450474</td>\n",
       "      <td>0.019247</td>\n",
       "      <td>...</td>\n",
       "      <td>0</td>\n",
       "      <td>0</td>\n",
       "      <td>0</td>\n",
       "      <td>0</td>\n",
       "      <td>0</td>\n",
       "      <td>1</td>\n",
       "      <td>0</td>\n",
       "      <td>0</td>\n",
       "      <td>0</td>\n",
       "      <td>1</td>\n",
       "    </tr>\n",
       "    <tr>\n",
       "      <th>...</th>\n",
       "      <td>...</td>\n",
       "      <td>...</td>\n",
       "      <td>...</td>\n",
       "      <td>...</td>\n",
       "      <td>...</td>\n",
       "      <td>...</td>\n",
       "      <td>...</td>\n",
       "      <td>...</td>\n",
       "      <td>...</td>\n",
       "      <td>...</td>\n",
       "      <td>...</td>\n",
       "      <td>...</td>\n",
       "      <td>...</td>\n",
       "      <td>...</td>\n",
       "      <td>...</td>\n",
       "      <td>...</td>\n",
       "      <td>...</td>\n",
       "      <td>...</td>\n",
       "      <td>...</td>\n",
       "      <td>...</td>\n",
       "      <td>...</td>\n",
       "    </tr>\n",
       "    <tr>\n",
       "      <th>28723</th>\n",
       "      <td>-1.095279</td>\n",
       "      <td>1.066527</td>\n",
       "      <td>-0.518893</td>\n",
       "      <td>0.907547</td>\n",
       "      <td>-0.405355</td>\n",
       "      <td>-0.074918</td>\n",
       "      <td>0.085109</td>\n",
       "      <td>0.023548</td>\n",
       "      <td>0.031583</td>\n",
       "      <td>0.053779</td>\n",
       "      <td>...</td>\n",
       "      <td>0</td>\n",
       "      <td>0</td>\n",
       "      <td>1</td>\n",
       "      <td>0</td>\n",
       "      <td>0</td>\n",
       "      <td>0</td>\n",
       "      <td>0</td>\n",
       "      <td>0</td>\n",
       "      <td>0</td>\n",
       "      <td>1</td>\n",
       "    </tr>\n",
       "    <tr>\n",
       "      <th>28724</th>\n",
       "      <td>2.931948</td>\n",
       "      <td>-1.095368</td>\n",
       "      <td>0.711232</td>\n",
       "      <td>-0.493647</td>\n",
       "      <td>1.162156</td>\n",
       "      <td>-0.074918</td>\n",
       "      <td>-0.593403</td>\n",
       "      <td>0.144704</td>\n",
       "      <td>-0.177862</td>\n",
       "      <td>-0.590828</td>\n",
       "      <td>...</td>\n",
       "      <td>0</td>\n",
       "      <td>0</td>\n",
       "      <td>0</td>\n",
       "      <td>0</td>\n",
       "      <td>0</td>\n",
       "      <td>0</td>\n",
       "      <td>0</td>\n",
       "      <td>1</td>\n",
       "      <td>0</td>\n",
       "      <td>1</td>\n",
       "    </tr>\n",
       "    <tr>\n",
       "      <th>28725</th>\n",
       "      <td>3.109947</td>\n",
       "      <td>1.066527</td>\n",
       "      <td>-1.099349</td>\n",
       "      <td>0.875840</td>\n",
       "      <td>1.162156</td>\n",
       "      <td>-0.074918</td>\n",
       "      <td>-0.593403</td>\n",
       "      <td>-0.471595</td>\n",
       "      <td>2.544928</td>\n",
       "      <td>-0.214807</td>\n",
       "      <td>...</td>\n",
       "      <td>0</td>\n",
       "      <td>0</td>\n",
       "      <td>0</td>\n",
       "      <td>0</td>\n",
       "      <td>0</td>\n",
       "      <td>0</td>\n",
       "      <td>0</td>\n",
       "      <td>1</td>\n",
       "      <td>0</td>\n",
       "      <td>1</td>\n",
       "    </tr>\n",
       "    <tr>\n",
       "      <th>28726</th>\n",
       "      <td>2.303389</td>\n",
       "      <td>1.066527</td>\n",
       "      <td>0.425674</td>\n",
       "      <td>0.147542</td>\n",
       "      <td>-0.405355</td>\n",
       "      <td>-0.074918</td>\n",
       "      <td>0.424366</td>\n",
       "      <td>0.422835</td>\n",
       "      <td>0.450474</td>\n",
       "      <td>0.706060</td>\n",
       "      <td>...</td>\n",
       "      <td>0</td>\n",
       "      <td>0</td>\n",
       "      <td>0</td>\n",
       "      <td>0</td>\n",
       "      <td>0</td>\n",
       "      <td>0</td>\n",
       "      <td>1</td>\n",
       "      <td>0</td>\n",
       "      <td>0</td>\n",
       "      <td>1</td>\n",
       "    </tr>\n",
       "    <tr>\n",
       "      <th>28727</th>\n",
       "      <td>3.163718</td>\n",
       "      <td>1.066527</td>\n",
       "      <td>1.135221</td>\n",
       "      <td>1.423375</td>\n",
       "      <td>-0.405355</td>\n",
       "      <td>-0.074918</td>\n",
       "      <td>2.459903</td>\n",
       "      <td>-0.631514</td>\n",
       "      <td>2.544928</td>\n",
       "      <td>1.454245</td>\n",
       "      <td>...</td>\n",
       "      <td>0</td>\n",
       "      <td>0</td>\n",
       "      <td>0</td>\n",
       "      <td>0</td>\n",
       "      <td>0</td>\n",
       "      <td>0</td>\n",
       "      <td>0</td>\n",
       "      <td>0</td>\n",
       "      <td>1</td>\n",
       "      <td>1</td>\n",
       "    </tr>\n",
       "  </tbody>\n",
       "</table>\n",
       "<p>28728 rows × 27 columns</p>\n",
       "</div>"
      ],
      "text/plain": [
       "       interest rate  length of employment  annual income  \\\n",
       "0          -0.874634              1.066527      -0.160289   \n",
       "1          -0.765239              1.066527       2.341937   \n",
       "2           1.133417              1.066527      -0.448552   \n",
       "3           1.048126              1.066527       0.335695   \n",
       "4           0.948001              0.796290      -0.380678   \n",
       "...              ...                   ...            ...   \n",
       "28723      -1.095279              1.066527      -0.518893   \n",
       "28724       2.931948             -1.095368       0.711232   \n",
       "28725       3.109947              1.066527      -1.099349   \n",
       "28726       2.303389              1.066527       0.425674   \n",
       "28727       3.163718              1.066527       1.135221   \n",
       "\n",
       "       debt to income ratio  public records  delinquency in past 2 years  \\\n",
       "0                  1.126645       -0.405355                    -0.074918   \n",
       "1                  0.544783        1.162156                    -0.074918   \n",
       "2                 -0.221883       -0.405355                    -0.074918   \n",
       "3                  0.696245        2.729667                    -0.074918   \n",
       "4                  1.124915       -0.405355                    -0.074918   \n",
       "...                     ...             ...                          ...   \n",
       "28723              0.907547       -0.405355                    -0.074918   \n",
       "28724             -0.493647        1.162156                    -0.074918   \n",
       "28725              0.875840        1.162156                    -0.074918   \n",
       "28726              0.147542       -0.405355                    -0.074918   \n",
       "28727              1.423375       -0.405355                    -0.074918   \n",
       "\n",
       "       number of finance trades  bankcard open to buy  \\\n",
       "0                      1.442134             -0.413480   \n",
       "1                     -0.593403              0.138815   \n",
       "2                     -0.254147             -0.155422   \n",
       "3                     -0.254147              0.016697   \n",
       "4                     -0.593403             -0.660060   \n",
       "...                         ...                   ...   \n",
       "28723                  0.085109              0.023548   \n",
       "28724                 -0.593403              0.144704   \n",
       "28725                 -0.593403             -0.471595   \n",
       "28726                  0.424366              0.422835   \n",
       "28727                  2.459903             -0.631514   \n",
       "\n",
       "       number of bankcard accounts     추정 소득  ...  loan purpose_other  \\\n",
       "0                         0.450474  0.264811  ...                   0   \n",
       "1                         1.288256  3.564585  ...                   0   \n",
       "2                        -0.596753  0.092149  ...                   0   \n",
       "3                         0.659919  0.629321  ...                   0   \n",
       "4                         0.450474  0.019247  ...                   0   \n",
       "...                            ...       ...  ...                 ...   \n",
       "28723                     0.031583  0.053779  ...                   0   \n",
       "28724                    -0.177862 -0.590828  ...                   0   \n",
       "28725                     2.544928 -0.214807  ...                   0   \n",
       "28726                     0.450474  0.706060  ...                   0   \n",
       "28727                     2.544928  1.454245  ...                   0   \n",
       "\n",
       "       loan purpose_private  LC_grade_A  LC_grade_B  LC_grade_C  LC_grade_D  \\\n",
       "0                         0           0           1           0           0   \n",
       "1                         0           0           1           0           0   \n",
       "2                         0           0           0           0           0   \n",
       "3                         0           0           0           0           1   \n",
       "4                         0           0           0           0           1   \n",
       "...                     ...         ...         ...         ...         ...   \n",
       "28723                     0           1           0           0           0   \n",
       "28724                     0           0           0           0           0   \n",
       "28725                     0           0           0           0           0   \n",
       "28726                     0           0           0           0           0   \n",
       "28727                     0           0           0           0           0   \n",
       "\n",
       "       LC_grade_E  LC_grade_F  LC_grade_G  모기지거래_적음  \n",
       "0               0           0           0         1  \n",
       "1               0           0           0         1  \n",
       "2               1           0           0         1  \n",
       "3               0           0           0         1  \n",
       "4               0           0           0         1  \n",
       "...           ...         ...         ...       ...  \n",
       "28723           0           0           0         1  \n",
       "28724           0           1           0         1  \n",
       "28725           0           1           0         1  \n",
       "28726           1           0           0         1  \n",
       "28727           0           0           1         1  \n",
       "\n",
       "[28728 rows x 27 columns]"
      ]
     },
     "execution_count": 36,
     "metadata": {},
     "output_type": "execute_result"
    }
   ],
   "source": [
    "sub"
   ]
  },
  {
   "cell_type": "code",
   "execution_count": 31,
   "metadata": {},
   "outputs": [
    {
     "data": {
      "text/plain": [
       "28526"
      ]
     },
     "execution_count": 31,
     "metadata": {},
     "output_type": "execute_result"
    }
   ],
   "source": [
    "len(Predict)"
   ]
  },
  {
   "cell_type": "code",
   "execution_count": null,
   "metadata": {},
   "outputs": [],
   "source": []
  }
 ],
 "metadata": {
  "kernelspec": {
   "display_name": "Python 3",
   "language": "python",
   "name": "python3"
  },
  "language_info": {
   "codemirror_mode": {
    "name": "ipython",
    "version": 3
   },
   "file_extension": ".py",
   "mimetype": "text/x-python",
   "name": "python",
   "nbconvert_exporter": "python",
   "pygments_lexer": "ipython3",
   "version": "3.8.5"
  }
 },
 "nbformat": 4,
 "nbformat_minor": 2
}
